{
 "cells": [
  {
   "cell_type": "code",
   "execution_count": null,
   "id": "e3804240-f6ee-4579-9442-72a8f9c01a57",
   "metadata": {},
   "outputs": [],
   "source": [
    "# File: customer_analysis_timer.py\n",
    "\n",
    "import time\n",
    "import pandas as pd\n",
    "\n",
    "# Custom timer decorator\n",
    "def timer(func):\n",
    "    def wrapper(*args, **kwargs):\n",
    "        start_time = time.time()\n",
    "        result = func(*args, **kwargs)\n",
    "        end_time = time.time()\n",
    "        print(f\"Execution time: {end_time - start_time:.4f} seconds\")\n",
    "        return result\n",
    "    return wrapper\n",
    "\n",
    "# Load and clean data\n",
    "@timer\n",
    "def load_and_clean_data(filepath):\n",
    "    df = pd.read_csv(filepath)\n",
    "    df = df.drop_duplicates()\n",
    "    df = df.dropna()\n",
    "    return df\n",
    "\n",
    "# Analyze data\n",
    "@timer\n",
    "def analyze_data(df):\n",
    "    summary = {\n",
    "        \"num_customers\": len(df),\n",
    "        \"gender_distribution\": df[\"Gender\"].value_counts().to_dict(),\n",
    "        \"average_age\": df[\"Age\"].mean(),\n",
    "        \"average_income\": df[\"Annual Income (k$)\"].mean(),\n",
    "    }\n",
    "    return summary\n",
    "\n",
    "if __name__ == \"__main__\":\n",
    "    filepath = \"/mnt/data/unclean_customer_data.csv\"\n",
    "    df = load_and_clean_data(filepath)\n",
    "    analysis = analyze_data(df)\n",
    "\n",
    "    # Technical presentation\n",
    "    print(\"\\n[To: Data Science/Programming Head]\")\n",
    "    print(\"Data loaded and cleaned.\")\n",
    "    print(f\"Rows after cleaning: {len(df)}\")\n",
    "    print(\"Columns analyzed: Age, Gender, Annual Income\")\n",
    "    print(\"Key stats:\", analysis)\n",
    "\n",
    "    # CEO-friendly summary\n",
    "    print(\"\\n[To: CEO]\")\n",
    "    print(\"We analyzed customer profiles to identify revenue opportunities.\")\n",
    "    print(f\"We have {analysis['num_customers']} clean customer profiles.\")\n",
    "    print(\"Most customers are:\", max(analysis['gender_distribution'], key=analysis['gender_distribution'].get))\n",
    "    print(f\"Average age is {analysis['average_age']:.1f} years and income is ${analysis['average_income']*1000:,.2f}.\")\n",
    "    print(\"This insight will guide better marketing segmentation.\")\n"
   ]
  }
 ],
 "metadata": {
  "kernelspec": {
   "display_name": "anaconda-2024.02-py310",
   "language": "python",
   "name": "conda-env-anaconda-2024.02-py310-py"
  },
  "language_info": {
   "codemirror_mode": {
    "name": "ipython",
    "version": 3
   },
   "file_extension": ".py",
   "mimetype": "text/x-python",
   "name": "python",
   "nbconvert_exporter": "python",
   "pygments_lexer": "ipython3",
   "version": "3.10.14"
  }
 },
 "nbformat": 4,
 "nbformat_minor": 5
}
